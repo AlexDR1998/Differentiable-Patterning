{
 "cells": [
  {
   "cell_type": "code",
   "execution_count": 1,
   "metadata": {},
   "outputs": [
    {
     "name": "stderr",
     "output_type": "stream",
     "text": [
      "2024-07-23 14:40:45.086954: E external/local_xla/xla/stream_executor/cuda/cuda_dnn.cc:9261] Unable to register cuDNN factory: Attempting to register factory for plugin cuDNN when one has already been registered\n",
      "2024-07-23 14:40:45.086982: E external/local_xla/xla/stream_executor/cuda/cuda_fft.cc:607] Unable to register cuFFT factory: Attempting to register factory for plugin cuFFT when one has already been registered\n",
      "2024-07-23 14:40:45.087849: E external/local_xla/xla/stream_executor/cuda/cuda_blas.cc:1515] Unable to register cuBLAS factory: Attempting to register factory for plugin cuBLAS when one has already been registered\n",
      "2024-07-23 14:40:45.969262: W tensorflow/compiler/tf2tensorrt/utils/py_utils.cc:38] TF-TRT Warning: Could not find TensorRT\n"
     ]
    }
   ],
   "source": [
    "import sys\n",
    "sys.path.append('..')\n",
    "from NCA.trainer.NCA_trainer import NCA_Trainer\n",
    "from Common.utils import load_emoji_sequence\n",
    "from Common.eddie_indexer import index_to_data_nca_type\n",
    "from NCA.trainer.data_augmenter_nca import DataAugmenter\n",
    "from NCA.model.NCA_model import NCA\n",
    "from einops import rearrange\n",
    "import time\n",
    "import jax\n",
    "import jax.numpy as np\n",
    "import optax\n",
    "import matplotlib.pyplot as plt\n"
   ]
  },
  {
   "cell_type": "markdown",
   "metadata": {},
   "source": [
    "## Define all the variables"
   ]
  },
  {
   "cell_type": "code",
   "execution_count": 2,
   "metadata": {},
   "outputs": [],
   "source": [
    "CHANNELS = 16           # How many channels to use in the model\n",
    "TRAINING_STEPS = 100   # How many steps to train for\n",
    "DOWNSAMPLE = 4          # How much to downsample the image by\n",
    "NCA_STEPS = 32          # How many NCA steps between each image in the data sequence"
   ]
  },
  {
   "cell_type": "markdown",
   "metadata": {},
   "source": [
    "## Create a Neural Cellular Automata model\n",
    " - There are a few important parameters:\n",
    "    - `KERNEL_STR` defines what sort of spatial kernels we use\n",
    "    - `ACTIVATION` accepts any scalar function, acting as the neural network nonlinearity\n",
    "    - `PADDING` must be \"CIRCULAR\", \"REFLECT\" , \"REPLICATE\" or \"ZEROS\" - this controls how to handle the borders of the image\n",
    "    - `FIRE_RATE` must be between 0 and 1 - it is the probability of updating each pixel at each step"
   ]
  },
  {
   "cell_type": "code",
   "execution_count": 3,
   "metadata": {},
   "outputs": [],
   "source": [
    "model = NCA(N_CHANNELS=CHANNELS,\n",
    "            KERNEL_STR=[\"ID\",\"GRAD\",\"LAP\"],\n",
    "            ACTIVATION=jax.nn.relu,\n",
    "            PADDING=\"CIRCULAR\",\n",
    "            FIRE_RATE=0.5)\n"
   ]
  },
  {
   "cell_type": "markdown",
   "metadata": {},
   "source": [
    "## Load Data\n",
    " - Here we load an individual image from `demo_data/` , and create an initial condition of one seed pixel\n",
    " - `load_emoji_sequence` takes a list of strings like `[\"file_1\",\"file_2\",...]` and returns:\n",
    "   \n",
    "    an array of shape `[Batch, Timestep, Channels, Width, Height]`, where:\n",
    "      - `Batch` is currently 1 - this matters more later if we want to train to multiple images at the same time\n",
    "      - `Timestep` is the length of the input list\n",
    "      - `Channels` is typically 3 or 4 for colour channels\n",
    "      - `Width` and `Height` are for the image size\n",
    "\n",
    " -  We also use the `DataAugmenter` class, defined in `NCA.trainer.data_augmenter_nca.py`\n",
    "    - This has a few useful functions for modifying the data during training to produce better results\n",
    "    - This also adds extra hidden channels to an image\n",
    "    - By creating subclasses of `DataAugmenter` we can define what behaviour to apply to data during training\n",
    "         - In this example we just pad the data with extra zeros around the boundary"
   ]
  },
  {
   "cell_type": "code",
   "execution_count": 4,
   "metadata": {},
   "outputs": [
    {
     "name": "stdout",
     "output_type": "stream",
     "text": [
      "(Batch, Time, Channels, Width, Height): (1, 2, 4, 30, 30)\n"
     ]
    },
    {
     "data": {
      "image/png": "[encoded data removed]",
      "text/plain": [
       "<Figure size 640x480 with 1 Axes>"
      ]
     },
     "metadata": {},
     "output_type": "display_data"
    }
   ],
   "source": [
    "data = load_emoji_sequence([\"crab.png\"],impath_emojis=\"demo_data/\",downsample=DOWNSAMPLE)\n",
    "\n",
    "\n",
    "# For the initial condition, take a small cropped square from the middle of the target image\n",
    "initial_condition = np.array(data)\n",
    "W = initial_condition.shape[-2]\n",
    "H = initial_condition.shape[-1]\n",
    "initial_condition = initial_condition.at[0,0,:,:W//2-2].set(0)\n",
    "initial_condition = initial_condition.at[0,0,:,W//2+1:].set(0)\n",
    "initial_condition = initial_condition.at[0,0,:,:,:H//2-2].set(0)\n",
    "initial_condition = initial_condition.at[0,0,:,:,H//2+1:].set(0)\n",
    "\n",
    "\n",
    "data = np.concatenate([initial_condition,data],axis=1) # Join initial condition and data along the time axis\n",
    "print(\"(Batch, Time, Channels, Width, Height): \"+str(data.shape))\n",
    "plt.imshow(rearrange(data,\"() T C W H -> W (T H) C\" )[...,:3])\n",
    "plt.show()\n",
    "\n",
    "\n",
    "class data_augmenter_subclass(DataAugmenter):\n",
    "    #Redefine how data is pre-processed before training\n",
    "    def data_init(self,SHARDING=None):\n",
    "        data = self.return_saved_data()\n",
    "        data = self.duplicate_batches(data, 1)\n",
    "        data = self.pad(data, 10) \t\t\n",
    "        self.save_data(data)\n",
    "        return None\n",
    "    "
   ]
  },
  {
   "cell_type": "markdown",
   "metadata": {},
   "source": [
    "## Define the trainer object\n",
    "- The `NCA_Trainer` takes as input the `model`, the `data` and a reference to the `DataAugmenter` class (or a custom subclass)\n",
    "    - It also takes a `model_filename` for saving the output\n",
    "- `NCA_Trainer` also logs a lot of training statistics using tensorboard, instructions to read that are below"
   ]
  },
  {
   "cell_type": "code",
   "execution_count": 5,
   "metadata": {},
   "outputs": [
    {
     "name": "stdout",
     "output_type": "stream",
     "text": [
      "Batches = 1\n",
      "Logging training to: logs/test_grow_crab_2/train\n",
      "Saving model to: models/test_grow_crab_2\n"
     ]
    }
   ],
   "source": [
    "trainer = NCA_Trainer(NCA_model=model,\n",
    "                      data = data,\n",
    "                      DATA_AUGMENTER=data_augmenter_subclass,\n",
    "                      model_filename=\"test_grow_crab\")"
   ]
  },
  {
   "cell_type": "markdown",
   "metadata": {},
   "source": [
    "## Training\n",
    "- Run the following code cell first, then follow these instructions to view how the training is progressing\n",
    "\n",
    "### Evaluating training:\n",
    "- In the terminal, run the following command:\n",
    "\n",
    "`tensorboard --samples_per_plugin images=200 --logdir logs/test_grow_crab/train/`\n",
    "\n",
    "- Where `test_grow_crab` is the model filename we supplied when defining the `NCA_Trainer`\n",
    "\n",
    "- Then, open your browser and go to: `http://localhost:6006/`"
   ]
  },
  {
   "cell_type": "code",
   "execution_count": 6,
   "metadata": {},
   "outputs": [
    {
     "name": "stderr",
     "output_type": "stream",
     "text": [
      " 66%|██████▌   | 66/100 [00:42<00:20,  1.65it/s]"
     ]
    },
    {
     "name": "stdout",
     "output_type": "stream",
     "text": [
      "--- Model saved at 65 epochs with loss 0.092288546 ---\n"
     ]
    },
    {
     "name": "stderr",
     "output_type": "stream",
     "text": [
      " 68%|██████▊   | 68/100 [00:43<00:19,  1.61it/s]"
     ]
    },
    {
     "name": "stdout",
     "output_type": "stream",
     "text": [
      "--- Model saved at 67 epochs with loss 0.09166312 ---\n"
     ]
    },
    {
     "name": "stderr",
     "output_type": "stream",
     "text": [
      " 69%|██████▉   | 69/100 [00:44<00:19,  1.62it/s]"
     ]
    },
    {
     "name": "stdout",
     "output_type": "stream",
     "text": [
      "--- Model saved at 68 epochs with loss 0.09112487 ---\n"
     ]
    },
    {
     "name": "stderr",
     "output_type": "stream",
     "text": [
      " 70%|███████   | 70/100 [00:44<00:19,  1.56it/s]"
     ]
    },
    {
     "name": "stdout",
     "output_type": "stream",
     "text": [
      "--- Model saved at 69 epochs with loss 0.09102 ---\n"
     ]
    },
    {
     "name": "stderr",
     "output_type": "stream",
     "text": [
      " 71%|███████   | 71/100 [00:45<00:18,  1.60it/s]"
     ]
    },
    {
     "name": "stdout",
     "output_type": "stream",
     "text": [
      "--- Model saved at 70 epochs with loss 0.09067011 ---\n"
     ]
    },
    {
     "name": "stderr",
     "output_type": "stream",
     "text": [
      " 78%|███████▊  | 78/100 [00:50<00:14,  1.56it/s]"
     ]
    },
    {
     "name": "stdout",
     "output_type": "stream",
     "text": [
      "--- Model saved at 77 epochs with loss 0.09058927 ---\n"
     ]
    },
    {
     "name": "stderr",
     "output_type": "stream",
     "text": [
      " 79%|███████▉  | 79/100 [00:50<00:15,  1.38it/s]"
     ]
    },
    {
     "name": "stdout",
     "output_type": "stream",
     "text": [
      "--- Model saved at 78 epochs with loss 0.09012048 ---\n"
     ]
    },
    {
     "name": "stderr",
     "output_type": "stream",
     "text": [
      " 80%|████████  | 80/100 [00:51<00:15,  1.27it/s]"
     ]
    },
    {
     "name": "stdout",
     "output_type": "stream",
     "text": [
      "--- Model saved at 79 epochs with loss 0.089993656 ---\n"
     ]
    },
    {
     "name": "stderr",
     "output_type": "stream",
     "text": [
      " 81%|████████  | 81/100 [00:53<00:21,  1.14s/it]"
     ]
    },
    {
     "name": "stdout",
     "output_type": "stream",
     "text": [
      "--- Model saved at 80 epochs with loss 0.08903904 ---\n"
     ]
    },
    {
     "name": "stderr",
     "output_type": "stream",
     "text": [
      " 87%|████████▋ | 87/100 [00:57<00:09,  1.36it/s]"
     ]
    },
    {
     "name": "stdout",
     "output_type": "stream",
     "text": [
      "--- Model saved at 86 epochs with loss 0.08832507 ---\n"
     ]
    },
    {
     "name": "stderr",
     "output_type": "stream",
     "text": [
      " 90%|█████████ | 90/100 [00:59<00:06,  1.55it/s]"
     ]
    },
    {
     "name": "stdout",
     "output_type": "stream",
     "text": [
      "--- Model saved at 89 epochs with loss 0.08795223 ---\n"
     ]
    },
    {
     "name": "stderr",
     "output_type": "stream",
     "text": [
      " 94%|█████████▍| 94/100 [01:02<00:04,  1.48it/s]"
     ]
    },
    {
     "name": "stdout",
     "output_type": "stream",
     "text": [
      "--- Model saved at 93 epochs with loss 0.08757304 ---\n"
     ]
    },
    {
     "name": "stderr",
     "output_type": "stream",
     "text": [
      " 95%|█████████▌| 95/100 [01:02<00:03,  1.44it/s]"
     ]
    },
    {
     "name": "stdout",
     "output_type": "stream",
     "text": [
      "--- Model saved at 94 epochs with loss 0.087394156 ---\n"
     ]
    },
    {
     "name": "stderr",
     "output_type": "stream",
     "text": [
      " 98%|█████████▊| 98/100 [01:04<00:01,  1.53it/s]"
     ]
    },
    {
     "name": "stdout",
     "output_type": "stream",
     "text": [
      "--- Model saved at 97 epochs with loss 0.08729449 ---\n"
     ]
    },
    {
     "name": "stderr",
     "output_type": "stream",
     "text": [
      " 99%|█████████▉| 99/100 [01:05<00:00,  1.55it/s]"
     ]
    },
    {
     "name": "stdout",
     "output_type": "stream",
     "text": [
      "--- Model saved at 98 epochs with loss 0.08717904 ---\n"
     ]
    },
    {
     "name": "stderr",
     "output_type": "stream",
     "text": [
      "100%|██████████| 100/100 [01:06<00:00,  1.51it/s]\n"
     ]
    },
    {
     "name": "stdout",
     "output_type": "stream",
     "text": [
      "Training completed successfully\n",
      "Running final trained model for 64 steps\n"
     ]
    },
    {
     "name": "stderr",
     "output_type": "stream",
     "text": [
      "100%|██████████| 1/1 [00:01<00:00,  1.83s/it]\n"
     ]
    }
   ],
   "source": [
    "trainer.train(t=NCA_STEPS,iters=TRAINING_STEPS,LOOP_AUTODIFF=\"lax\")"
   ]
  },
  {
   "cell_type": "markdown",
   "metadata": {},
   "source": [
    "## Running a trained NCA\n",
    "- Here we can access the trained model as `trainer.NCA_model`\n",
    "- We can test it on the initial condition, given from `trainer.DATA_AUGMENTER.return_saved_data()[0][0]`"
   ]
  },
  {
   "cell_type": "code",
   "execution_count": 29,
   "metadata": {},
   "outputs": [
    {
     "name": "stderr",
     "output_type": "stream",
     "text": [
      "Clipping input data to the valid range for imshow with RGB data ([0..1] for floats or [0..255] for integers).\n"
     ]
    },
    {
     "data": {
      "image/png": "[encoded data removed]",
      "text/plain": [
       "<Figure size 640x480 with 1 Axes>"
      ]
     },
     "metadata": {},
     "output_type": "display_data"
    }
   ],
   "source": [
    "model = trainer.NCA_model\n",
    "x0 = trainer.DATA_AUGMENTER.return_saved_data()[0][0]\n",
    "\n",
    "trajectory = model.run(NCA_STEPS,x0)\n",
    "\n",
    "trajectory = rearrange(trajectory,\"T C W H-> T W H C\")\n",
    "plt.imshow(trajectory[-1,...,:3])\n",
    "plt.show()"
   ]
  }
 ],
 "metadata": {
  "kernelspec": {
   "display_name": "Python 3",
   "language": "python",
   "name": "python3"
  },
  "language_info": {
   "codemirror_mode": {
    "name": "ipython",
    "version": 3
   },
   "file_extension": ".py",
   "mimetype": "text/x-python",
   "name": "python",
   "nbconvert_exporter": "python",
   "pygments_lexer": "ipython3",
   "version": "3.11.0"
  }
 },
 "nbformat": 4,
 "nbformat_minor": 2
}
